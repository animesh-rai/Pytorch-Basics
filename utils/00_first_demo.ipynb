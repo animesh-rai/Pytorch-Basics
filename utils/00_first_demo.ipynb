{
 "cells": [
  {
   "cell_type": "code",
   "execution_count": 1,
   "id": "06ff83d2",
   "metadata": {},
   "outputs": [
    {
     "name": "stdout",
     "output_type": "stream",
     "text": [
      "Python 3.7.13\n"
     ]
    }
   ],
   "source": [
    "!python -V"
   ]
  },
  {
   "cell_type": "code",
   "execution_count": 2,
   "id": "961eeba8",
   "metadata": {},
   "outputs": [
    {
     "ename": "ModuleNotFoundError",
     "evalue": "No module named 'torch'",
     "output_type": "error",
     "traceback": [
      "\u001b[1;31m---------------------------------------------------------------------------\u001b[0m",
      "\u001b[1;31mModuleNotFoundError\u001b[0m                       Traceback (most recent call last)",
      "Input \u001b[1;32mIn [2]\u001b[0m, in \u001b[0;36m<module>\u001b[1;34m\u001b[0m\n\u001b[1;32m----> 1\u001b[0m \u001b[38;5;28;01mimport\u001b[39;00m \u001b[38;5;21;01mtorch\u001b[39;00m\n",
      "\u001b[1;31mModuleNotFoundError\u001b[0m: No module named 'torch'"
     ]
    }
   ],
   "source": [
    "import torch"
   ]
  },
  {
   "cell_type": "code",
   "execution_count": 2,
   "id": "083f3349",
   "metadata": {},
   "outputs": [],
   "source": [
    "import numpy"
   ]
  },
  {
   "cell_type": "code",
   "execution_count": 3,
   "id": "7da622fd",
   "metadata": {},
   "outputs": [
    {
     "name": "stdout",
     "output_type": "stream",
     "text": [
      "\n",
      "     active environment : F:\\Data Science\\ML Projects\\PyTorch Basics\\Pytorch-Basics\\envs\n",
      "    active env location : F:\\Data Science\\ML Projects\\PyTorch Basics\\Pytorch-Basics\\envs\n",
      "            shell level : 2\n",
      "       user config file : C:\\Users\\Animesh\\.condarc\n",
      " populated config files : C:\\Users\\Animesh\\.condarc\n",
      "          conda version : 4.11.0\n",
      "    conda-build version : 3.21.4\n",
      "         python version : 3.8.8.final.0\n",
      "       virtual packages : __win=0=0\n",
      "                          __archspec=1=x86_64\n",
      "       base environment : C:\\Users\\Animesh\\anaconda3  (writable)\n",
      "      conda av data dir : C:\\Users\\Animesh\\anaconda3\\etc\\conda\n",
      "  conda av metadata url : None\n",
      "           channel URLs : https://repo.anaconda.com/pkgs/main/win-64\n",
      "                          https://repo.anaconda.com/pkgs/main/noarch\n",
      "                          https://repo.anaconda.com/pkgs/r/win-64\n",
      "                          https://repo.anaconda.com/pkgs/r/noarch\n",
      "                          https://repo.anaconda.com/pkgs/msys2/win-64\n",
      "                          https://repo.anaconda.com/pkgs/msys2/noarch\n",
      "          package cache : C:\\Users\\Animesh\\anaconda3\\pkgs\n",
      "                          C:\\Users\\Animesh\\.conda\\pkgs\n",
      "                          C:\\Users\\Animesh\\AppData\\Local\\conda\\conda\\pkgs\n",
      "       envs directories : C:\\Users\\Animesh\\anaconda3\\envs\n",
      "                          C:\\Users\\Animesh\\.conda\\envs\n",
      "                          C:\\Users\\Animesh\\AppData\\Local\\conda\\conda\\envs\n",
      "               platform : win-64\n",
      "             user-agent : conda/4.11.0 requests/2.25.1 CPython/3.8.8 Windows/10 Windows/10.0.19041\n",
      "          administrator : False\n",
      "             netrc file : None\n",
      "           offline mode : False\n",
      "\n"
     ]
    }
   ],
   "source": [
    "!conda info "
   ]
  },
  {
   "cell_type": "code",
   "execution_count": 3,
   "id": "3ebbf4ab",
   "metadata": {},
   "outputs": [
    {
     "name": "stdout",
     "output_type": "stream",
     "text": [
      "Requirement already satisfied: torch in f:\\data science\\ml projects\\pytorch basics\\pytorch-basics\\envs\\lib\\site-packages (1.11.0)\n",
      "Requirement already satisfied: torchvision in f:\\data science\\ml projects\\pytorch basics\\pytorch-basics\\envs\\lib\\site-packages (0.12.0)\n",
      "Requirement already satisfied: torchaudio in f:\\data science\\ml projects\\pytorch basics\\pytorch-basics\\envs\\lib\\site-packages (0.11.0)\n",
      "Requirement already satisfied: typing-extensions in f:\\data science\\ml projects\\pytorch basics\\pytorch-basics\\envs\\lib\\site-packages (from torch) (4.2.0)\n",
      "Requirement already satisfied: pillow!=8.3.*,>=5.3.0 in f:\\data science\\ml projects\\pytorch basics\\pytorch-basics\\envs\\lib\\site-packages (from torchvision) (9.1.0)\n",
      "Requirement already satisfied: requests in f:\\data science\\ml projects\\pytorch basics\\pytorch-basics\\envs\\lib\\site-packages (from torchvision) (2.27.1)\n",
      "Requirement already satisfied: numpy in f:\\data science\\ml projects\\pytorch basics\\pytorch-basics\\envs\\lib\\site-packages (from torchvision) (1.21.6)\n",
      "Requirement already satisfied: idna<4,>=2.5 in f:\\data science\\ml projects\\pytorch basics\\pytorch-basics\\envs\\lib\\site-packages (from requests->torchvision) (3.3)\n",
      "Requirement already satisfied: certifi>=2017.4.17 in f:\\data science\\ml projects\\pytorch basics\\pytorch-basics\\envs\\lib\\site-packages (from requests->torchvision) (2021.10.8)\n",
      "Requirement already satisfied: urllib3<1.27,>=1.21.1 in f:\\data science\\ml projects\\pytorch basics\\pytorch-basics\\envs\\lib\\site-packages (from requests->torchvision) (1.26.9)\n",
      "Requirement already satisfied: charset-normalizer~=2.0.0 in f:\\data science\\ml projects\\pytorch basics\\pytorch-basics\\envs\\lib\\site-packages (from requests->torchvision) (2.0.12)\n"
     ]
    }
   ],
   "source": [
    "!pip install torch torchvision torchaudio"
   ]
  },
  {
   "cell_type": "code",
   "execution_count": 4,
   "id": "33b4429d",
   "metadata": {},
   "outputs": [
    {
     "ename": "ModuleNotFoundError",
     "evalue": "No module named 'torch'",
     "output_type": "error",
     "traceback": [
      "\u001b[1;31m---------------------------------------------------------------------------\u001b[0m",
      "\u001b[1;31mModuleNotFoundError\u001b[0m                       Traceback (most recent call last)",
      "Input \u001b[1;32mIn [4]\u001b[0m, in \u001b[0;36m<module>\u001b[1;34m\u001b[0m\n\u001b[1;32m----> 1\u001b[0m \u001b[38;5;28;01mimport\u001b[39;00m \u001b[38;5;21;01mtorch\u001b[39;00m\n",
      "\u001b[1;31mModuleNotFoundError\u001b[0m: No module named 'torch'"
     ]
    }
   ],
   "source": [
    "import torch"
   ]
  },
  {
   "cell_type": "code",
   "execution_count": null,
   "id": "097d7a42",
   "metadata": {},
   "outputs": [],
   "source": []
  }
 ],
 "metadata": {
  "kernelspec": {
   "display_name": "Python 3 (ipykernel)",
   "language": "python",
   "name": "python3"
  },
  "language_info": {
   "codemirror_mode": {
    "name": "ipython",
    "version": 3
   },
   "file_extension": ".py",
   "mimetype": "text/x-python",
   "name": "python",
   "nbconvert_exporter": "python",
   "pygments_lexer": "ipython3",
   "version": "3.8.10"
  }
 },
 "nbformat": 4,
 "nbformat_minor": 5
}
